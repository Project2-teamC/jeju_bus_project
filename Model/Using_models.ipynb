{
 "cells": [
  {
   "cell_type": "markdown",
   "id": "b4b59392",
   "metadata": {},
   "source": [
    "## 1. pycaret 이용하기"
   ]
  },
  {
   "cell_type": "code",
   "execution_count": null,
   "id": "45a0e9ed",
   "metadata": {
    "collapsed": true
   },
   "outputs": [
    {
     "name": "stdout",
     "output_type": "stream",
     "text": [
      "^C\n"
     ]
    }
   ],
   "source": [
    "# 설치해야 할 것들\n",
    "!pip install h5py\n",
    "!pip install typing-extensions\n",
    "!pip install wheel\n",
    "!pip install catboost\n",
    "!pip install xgboost\n",
    "!pip install pycaret==2.3.10 markupsafe==2.0.1 pyyaml==5.4.1 -qq "
   ]
  },
  {
   "cell_type": "code",
   "execution_count": null,
   "id": "bea02995",
   "metadata": {},
   "outputs": [],
   "source": [
    "# 테이블에서 필요없는 컬럼들 제거하기(본 자료는 다 예시입니다.)\n",
    "train_x = train_data.drop(['id', 'Temperature', 'Fuel_Price', 'Unemployment', 'IsHoliday', 'Date'], axis = 1)\n",
    "test_x = test_data.drop(['id', 'Temperature', 'Fuel_Price', 'Unemployment', 'IsHoliday', 'Date'], axis = 1)\n",
    "train_x.head()"
   ]
  },
  {
   "cell_type": "code",
   "execution_count": null,
   "id": "6180bd24",
   "metadata": {},
   "outputs": [],
   "source": [
    "# reproducibility 씨드의 배열은 랜덤하지 않게 유지하기 위한 장치\n",
    "def seed_all(seed_num):\n",
    "    rn.seed(seed_num)\n",
    "    os.environ['PYTHONHASHSEED'] = str(seed_num)\n",
    "    np.random.seed(seed_num)\n",
    "\n",
    "seed_all(45)"
   ]
  },
  {
   "cell_type": "code",
   "execution_count": null,
   "id": "821f87ca",
   "metadata": {},
   "outputs": [],
   "source": [
    "seed_num = 45\n",
    "py_reg = setup(train_x, target = 'Weekly_Sales', fold_shuffle = True, session_id = seed_num, \n",
    "               normalize = True, silent = True, remove_outliers = True)\n",
    "# 괄호 설명 : (사용할 데이터, 예측하고자 하는 컬럼, 샘플데이터를 섞음, 아까 정한 랜덤값을 설정으로 둠,\n",
    "#              정규화, 나중에 밑에 많이 뜨는거 조용히ㅎ, 이상치 제거)"
   ]
  },
  {
   "cell_type": "code",
   "execution_count": null,
   "id": "e9d1ffb7",
   "metadata": {},
   "outputs": [],
   "source": [
    "best_models = compare_models(n_select=5, sort='RMSE')\n",
    "# n_select는 사용할 파라미터의 갯수"
   ]
  },
  {
   "cell_type": "code",
   "execution_count": null,
   "id": "b022fce9",
   "metadata": {},
   "outputs": [],
   "source": [
    "# 상위 3개 모델 생성\n",
    "catboost = create_model('catboost', verbose = False)\n",
    "rf = create_model('rf', verbose = False)\n",
    "lightgbm = create_model('lightgbm', verbose = False)\n",
    "# verbose information grid 를 표시할지 말지? verbose False로 하면 표시 안함. 확인을 위해 해봐도 좋음"
   ]
  },
  {
   "cell_type": "code",
   "execution_count": null,
   "id": "d0f22806",
   "metadata": {},
   "outputs": [],
   "source": [
    "# 세개의 모델을 블랜딩 해볼 수 있음(이 모델은 어디까지나 예시임)\n",
    "blend_models = blend_models(estimator_list = [catboost, rf, lightgbm])"
   ]
  },
  {
   "cell_type": "code",
   "execution_count": null,
   "id": "9683c1ef",
   "metadata": {},
   "outputs": [],
   "source": [
    "# 마지막 학습, test 예측\n",
    "final_model = finalize_model(blend_models)\n",
    "prediction = predict_model(final_model, data = test_x)"
   ]
  },
  {
   "cell_type": "code",
   "execution_count": null,
   "id": "12d7c9c8",
   "metadata": {},
   "outputs": [],
   "source": [
    "### 일단 여기까지 해봅시다! 그리고 결과값에 대해서는 다시 이야기 해보면 좋을 거 같아요!"
   ]
  },
  {
   "cell_type": "code",
   "execution_count": null,
   "id": "8ea679bb",
   "metadata": {},
   "outputs": [],
   "source": []
  }
 ],
 "metadata": {
  "kernelspec": {
   "display_name": "Python 3 (ipykernel)",
   "language": "python",
   "name": "python3"
  },
  "language_info": {
   "codemirror_mode": {
    "name": "ipython",
    "version": 3
   },
   "file_extension": ".py",
   "mimetype": "text/x-python",
   "name": "python",
   "nbconvert_exporter": "python",
   "pygments_lexer": "ipython3",
   "version": "3.8.12"
  }
 },
 "nbformat": 4,
 "nbformat_minor": 5
}
